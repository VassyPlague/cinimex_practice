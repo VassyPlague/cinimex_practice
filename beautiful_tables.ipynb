{
 "cells": [
  {
   "cell_type": "markdown",
   "id": "da9a7203",
   "metadata": {},
   "source": [
    "# FOLD0"
   ]
  },
  {
   "cell_type": "code",
   "execution_count": 2,
   "id": "96beecf1",
   "metadata": {},
   "outputs": [],
   "source": [
    "import pandas as pd\n",
    "md0 = [0.705, 0.789, 0.745, 0.924]\n",
    "rb0 = [0.706, 0.777, 0.7402, 0.915]\n",
    "bb0 = [0.45, 0.51, 0.48, 0.83]\n",
    "t1 = pd.DataFrame({'MDBERTA' : md0, 'RUBERT' : rb0, 'BERT-BASE' : bb0}, index=['PR','RC','F1','AC'], )"
   ]
  },
  {
   "cell_type": "code",
   "execution_count": 3,
   "id": "e1cf0b2f",
   "metadata": {},
   "outputs": [],
   "source": [
    "md1 = [0.741, 0.793, 0.766, 0.923]\n",
    "rb1 = [0.732, 0.800, 0.764, 0.930]\n",
    "bb1 = [0.717, 0.790, 0.752, 0.911]\n",
    "t2 = pd.DataFrame({'MDBERTA' : md1, 'RUBERT' : rb1, 'BERT-BASE' : bb1}, index=['PR','RC','F1','AC'], )"
   ]
  },
  {
   "cell_type": "code",
   "execution_count": 4,
   "id": "4c5c483d",
   "metadata": {},
   "outputs": [],
   "source": [
    "md2 = [0.711, 0.812, 0.758, 0.903]\n",
    "rb2 = [0.718, 0.823, 0.767, 0.905]\n",
    "bb2 = [0.70, 0.820, 0.759, 0.908]\n",
    "t3 = pd.DataFrame({'MDBERTA' : md2, 'RUBERT' : rb2, 'BERT-BASE' : bb2}, index=['PR','RC','F1','AC'], )"
   ]
  },
  {
   "cell_type": "code",
   "execution_count": 5,
   "id": "2a9affcf",
   "metadata": {},
   "outputs": [],
   "source": [
    "md3 = [0.746, 0.790, 0.767, 0.896]\n",
    "rb3 = [0.729, 0.805, 0.766, 0.889]\n",
    "bb3 = [0.747, 0.803, 0.774, 0.891]\n",
    "t4 = pd.DataFrame({'MDBERTA' : md3, 'RUBERT' : rb3, 'BERT-BASE' : bb3}, index=['PR','RC','F1','AC'], )"
   ]
  },
  {
   "cell_type": "code",
   "execution_count": 6,
   "id": "acbd71cb",
   "metadata": {},
   "outputs": [],
   "source": [
    "md4 = [0.749, 0.833, 0.789, 0.916]\n",
    "rb4 = [0.750, 0.773, 0.761, 0.883]\n",
    "bb4 = [0.724, 0.790, 0.756, 0.899]\n",
    "t5 = pd.DataFrame({'MDBERTA' : md4, 'RUBERT' : rb4, 'BERT-BASE' : bb4}, index=['PR','RC','F1','AC'], )"
   ]
  },
  {
   "cell_type": "code",
   "execution_count": 10,
   "id": "37ddd0e7",
   "metadata": {},
   "outputs": [],
   "source": [
    "from IPython.display import display_html\n",
    "from itertools import chain,cycle\n",
    "def display_side_by_side(*args,titles=cycle([''])):\n",
    "    html_str=''\n",
    "    for df,title in zip(args, chain(titles,cycle(['</br>'])) ):\n",
    "        html_str+='<th style=\"text-align:center\"><td style=\"vertical-align:top\">'\n",
    "        html_str+=f'<h2 style=\"text-align: center;\">{title}</h2>'\n",
    "        html_str+=df.to_html().replace('table','table style=\"display:inline\"')\n",
    "        html_str+='</td></th>'\n",
    "    display_html(html_str,raw=True)"
   ]
  },
  {
   "cell_type": "code",
   "execution_count": 11,
   "id": "8bcb9113",
   "metadata": {},
   "outputs": [
    {
     "data": {
      "text/html": [
       "<th style=\"text-align:center\"><td style=\"vertical-align:top\"><h2 style=\"text-align: center;\">FOLD0</h2><table style=\"display:inline\" border=\"1\" class=\"dataframe\">\n",
       "  <thead>\n",
       "    <tr style=\"text-align: right;\">\n",
       "      <th></th>\n",
       "      <th>MDBERTA</th>\n",
       "      <th>RUBERT</th>\n",
       "      <th>BERT-BASE</th>\n",
       "    </tr>\n",
       "  </thead>\n",
       "  <tbody>\n",
       "    <tr>\n",
       "      <th>PR</th>\n",
       "      <td>0.705</td>\n",
       "      <td>0.7060</td>\n",
       "      <td>0.45</td>\n",
       "    </tr>\n",
       "    <tr>\n",
       "      <th>RC</th>\n",
       "      <td>0.789</td>\n",
       "      <td>0.7770</td>\n",
       "      <td>0.51</td>\n",
       "    </tr>\n",
       "    <tr>\n",
       "      <th>F1</th>\n",
       "      <td>0.745</td>\n",
       "      <td>0.7402</td>\n",
       "      <td>0.48</td>\n",
       "    </tr>\n",
       "    <tr>\n",
       "      <th>AC</th>\n",
       "      <td>0.924</td>\n",
       "      <td>0.9150</td>\n",
       "      <td>0.83</td>\n",
       "    </tr>\n",
       "  </tbody>\n",
       "</table style=\"display:inline\"></td></th><th style=\"text-align:center\"><td style=\"vertical-align:top\"><h2 style=\"text-align: center;\">FOLD1</h2><table style=\"display:inline\" border=\"1\" class=\"dataframe\">\n",
       "  <thead>\n",
       "    <tr style=\"text-align: right;\">\n",
       "      <th></th>\n",
       "      <th>MDBERTA</th>\n",
       "      <th>RUBERT</th>\n",
       "      <th>BERT-BASE</th>\n",
       "    </tr>\n",
       "  </thead>\n",
       "  <tbody>\n",
       "    <tr>\n",
       "      <th>PR</th>\n",
       "      <td>0.741</td>\n",
       "      <td>0.732</td>\n",
       "      <td>0.717</td>\n",
       "    </tr>\n",
       "    <tr>\n",
       "      <th>RC</th>\n",
       "      <td>0.793</td>\n",
       "      <td>0.800</td>\n",
       "      <td>0.790</td>\n",
       "    </tr>\n",
       "    <tr>\n",
       "      <th>F1</th>\n",
       "      <td>0.766</td>\n",
       "      <td>0.764</td>\n",
       "      <td>0.752</td>\n",
       "    </tr>\n",
       "    <tr>\n",
       "      <th>AC</th>\n",
       "      <td>0.923</td>\n",
       "      <td>0.930</td>\n",
       "      <td>0.911</td>\n",
       "    </tr>\n",
       "  </tbody>\n",
       "</table style=\"display:inline\"></td></th><th style=\"text-align:center\"><td style=\"vertical-align:top\"><h2 style=\"text-align: center;\">FOLD2</h2><table style=\"display:inline\" border=\"1\" class=\"dataframe\">\n",
       "  <thead>\n",
       "    <tr style=\"text-align: right;\">\n",
       "      <th></th>\n",
       "      <th>MDBERTA</th>\n",
       "      <th>RUBERT</th>\n",
       "      <th>BERT-BASE</th>\n",
       "    </tr>\n",
       "  </thead>\n",
       "  <tbody>\n",
       "    <tr>\n",
       "      <th>PR</th>\n",
       "      <td>0.711</td>\n",
       "      <td>0.718</td>\n",
       "      <td>0.700</td>\n",
       "    </tr>\n",
       "    <tr>\n",
       "      <th>RC</th>\n",
       "      <td>0.812</td>\n",
       "      <td>0.823</td>\n",
       "      <td>0.820</td>\n",
       "    </tr>\n",
       "    <tr>\n",
       "      <th>F1</th>\n",
       "      <td>0.758</td>\n",
       "      <td>0.767</td>\n",
       "      <td>0.759</td>\n",
       "    </tr>\n",
       "    <tr>\n",
       "      <th>AC</th>\n",
       "      <td>0.903</td>\n",
       "      <td>0.905</td>\n",
       "      <td>0.908</td>\n",
       "    </tr>\n",
       "  </tbody>\n",
       "</table style=\"display:inline\"></td></th>"
      ]
     },
     "metadata": {},
     "output_type": "display_data"
    }
   ],
   "source": [
    "display_side_by_side(t1,t2,t3, titles=['FOLD0','FOLD1', 'FOLD2'])"
   ]
  },
  {
   "cell_type": "code",
   "execution_count": 12,
   "id": "a801c058",
   "metadata": {},
   "outputs": [
    {
     "data": {
      "text/html": [
       "<th style=\"text-align:center\"><td style=\"vertical-align:top\"><h2 style=\"text-align: center;\">FOLD3</h2><table style=\"display:inline\" border=\"1\" class=\"dataframe\">\n",
       "  <thead>\n",
       "    <tr style=\"text-align: right;\">\n",
       "      <th></th>\n",
       "      <th>MDBERTA</th>\n",
       "      <th>RUBERT</th>\n",
       "      <th>BERT-BASE</th>\n",
       "    </tr>\n",
       "  </thead>\n",
       "  <tbody>\n",
       "    <tr>\n",
       "      <th>PR</th>\n",
       "      <td>0.746</td>\n",
       "      <td>0.729</td>\n",
       "      <td>0.747</td>\n",
       "    </tr>\n",
       "    <tr>\n",
       "      <th>RC</th>\n",
       "      <td>0.790</td>\n",
       "      <td>0.805</td>\n",
       "      <td>0.803</td>\n",
       "    </tr>\n",
       "    <tr>\n",
       "      <th>F1</th>\n",
       "      <td>0.767</td>\n",
       "      <td>0.766</td>\n",
       "      <td>0.774</td>\n",
       "    </tr>\n",
       "    <tr>\n",
       "      <th>AC</th>\n",
       "      <td>0.896</td>\n",
       "      <td>0.889</td>\n",
       "      <td>0.891</td>\n",
       "    </tr>\n",
       "  </tbody>\n",
       "</table style=\"display:inline\"></td></th><th style=\"text-align:center\"><td style=\"vertical-align:top\"><h2 style=\"text-align: center;\">FOLD4</h2><table style=\"display:inline\" border=\"1\" class=\"dataframe\">\n",
       "  <thead>\n",
       "    <tr style=\"text-align: right;\">\n",
       "      <th></th>\n",
       "      <th>MDBERTA</th>\n",
       "      <th>RUBERT</th>\n",
       "      <th>BERT-BASE</th>\n",
       "    </tr>\n",
       "  </thead>\n",
       "  <tbody>\n",
       "    <tr>\n",
       "      <th>PR</th>\n",
       "      <td>0.749</td>\n",
       "      <td>0.750</td>\n",
       "      <td>0.724</td>\n",
       "    </tr>\n",
       "    <tr>\n",
       "      <th>RC</th>\n",
       "      <td>0.833</td>\n",
       "      <td>0.773</td>\n",
       "      <td>0.790</td>\n",
       "    </tr>\n",
       "    <tr>\n",
       "      <th>F1</th>\n",
       "      <td>0.789</td>\n",
       "      <td>0.761</td>\n",
       "      <td>0.756</td>\n",
       "    </tr>\n",
       "    <tr>\n",
       "      <th>AC</th>\n",
       "      <td>0.916</td>\n",
       "      <td>0.883</td>\n",
       "      <td>0.899</td>\n",
       "    </tr>\n",
       "  </tbody>\n",
       "</table style=\"display:inline\"></td></th>"
      ]
     },
     "metadata": {},
     "output_type": "display_data"
    }
   ],
   "source": [
    "display_side_by_side(t4,t5, titles=['FOLD3','FOLD4'])"
   ]
  },
  {
   "cell_type": "code",
   "execution_count": 15,
   "id": "f90e8f90",
   "metadata": {},
   "outputs": [
    {
     "name": "stdout",
     "output_type": "stream",
     "text": [
      "MEAN F1 MDBERTA - 0.765\n",
      "MEAN F1 RUBERT - 0.76\n",
      "MEAN F1 BERT-BASE - 0.704\n"
     ]
    }
   ],
   "source": [
    "meanf1_md = (md0[2] + md1[2] + md2[2] + md3[2] + md4[2])/5\n",
    "meanf1_rb = (rb0[2] + rb1[2] + rb2[2] + rb3[2] + rb4[2])/5\n",
    "meanf1_bb = (bb0[2] + bb1[2] + bb2[2] + bb3[2] + bb4[2])/5\n",
    "print('MEAN F1 MDBERTA - ' + str(meanf1_md))\n",
    "print('MEAN F1 RUBERT - ' + str(round(meanf1_rb,3)))\n",
    "print('MEAN F1 BERT-BASE - ' + str(round(meanf1_bb,3)))"
   ]
  },
  {
   "cell_type": "code",
   "execution_count": null,
   "id": "8b8c4b51",
   "metadata": {},
   "outputs": [],
   "source": []
  }
 ],
 "metadata": {
  "kernelspec": {
   "display_name": "Python 3 (ipykernel)",
   "language": "python",
   "name": "python3"
  },
  "language_info": {
   "codemirror_mode": {
    "name": "ipython",
    "version": 3
   },
   "file_extension": ".py",
   "mimetype": "text/x-python",
   "name": "python",
   "nbconvert_exporter": "python",
   "pygments_lexer": "ipython3",
   "version": "3.10.9"
  }
 },
 "nbformat": 4,
 "nbformat_minor": 5
}
