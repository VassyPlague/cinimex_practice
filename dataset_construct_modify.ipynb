{
 "cells": [
  {
   "cell_type": "code",
   "execution_count": 1,
   "id": "7c9b0607",
   "metadata": {},
   "outputs": [],
   "source": [
    "# IMPORTS\n",
    "import pandas as pd\n",
    "import warnings\n",
    "from sklearn.model_selection import StratifiedKFold\n",
    "from sklearn.model_selection import StratifiedGroupKFold\n",
    "from sklearn.model_selection import KFold\n",
    "import razdel\n",
    "import numpy as np\n",
    "warnings.filterwarnings('ignore')"
   ]
  },
  {
   "cell_type": "code",
   "execution_count": 2,
   "id": "7c5776c9",
   "metadata": {},
   "outputs": [
    {
     "data": {
      "text/html": [
       "<div>\n",
       "<style scoped>\n",
       "    .dataframe tbody tr th:only-of-type {\n",
       "        vertical-align: middle;\n",
       "    }\n",
       "\n",
       "    .dataframe tbody tr th {\n",
       "        vertical-align: top;\n",
       "    }\n",
       "\n",
       "    .dataframe thead th {\n",
       "        text-align: right;\n",
       "    }\n",
       "</style>\n",
       "<table border=\"1\" class=\"dataframe\">\n",
       "  <thead>\n",
       "    <tr style=\"text-align: right;\">\n",
       "      <th></th>\n",
       "      <th>text</th>\n",
       "      <th>label</th>\n",
       "      <th>task</th>\n",
       "    </tr>\n",
       "  </thead>\n",
       "  <tbody>\n",
       "    <tr>\n",
       "      <th>0</th>\n",
       "      <td>СЗ_Лечебное</td>\n",
       "      <td>O</td>\n",
       "      <td>270</td>\n",
       "    </tr>\n",
       "    <tr>\n",
       "      <th>1</th>\n",
       "      <td>дело</td>\n",
       "      <td>O</td>\n",
       "      <td>270</td>\n",
       "    </tr>\n",
       "    <tr>\n",
       "      <th>2</th>\n",
       "      <td>(</td>\n",
       "      <td>O</td>\n",
       "      <td>270</td>\n",
       "    </tr>\n",
       "    <tr>\n",
       "      <th>3</th>\n",
       "      <td>ч</td>\n",
       "      <td>O</td>\n",
       "      <td>270</td>\n",
       "    </tr>\n",
       "    <tr>\n",
       "      <th>4</th>\n",
       "      <td>.4</td>\n",
       "      <td>O</td>\n",
       "      <td>270</td>\n",
       "    </tr>\n",
       "    <tr>\n",
       "      <th>...</th>\n",
       "      <td>...</td>\n",
       "      <td>...</td>\n",
       "      <td>...</td>\n",
       "    </tr>\n",
       "    <tr>\n",
       "      <th>12272</th>\n",
       "      <td>обязательными</td>\n",
       "      <td>O</td>\n",
       "      <td>314</td>\n",
       "    </tr>\n",
       "    <tr>\n",
       "      <th>12273</th>\n",
       "      <td>для</td>\n",
       "      <td>O</td>\n",
       "      <td>314</td>\n",
       "    </tr>\n",
       "    <tr>\n",
       "      <th>12274</th>\n",
       "      <td>данного</td>\n",
       "      <td>O</td>\n",
       "      <td>314</td>\n",
       "    </tr>\n",
       "    <tr>\n",
       "      <th>12275</th>\n",
       "      <td>заболевания</td>\n",
       "      <td>O</td>\n",
       "      <td>314</td>\n",
       "    </tr>\n",
       "    <tr>\n",
       "      <th>12276</th>\n",
       "      <td>?</td>\n",
       "      <td>O</td>\n",
       "      <td>314</td>\n",
       "    </tr>\n",
       "  </tbody>\n",
       "</table>\n",
       "<p>12277 rows × 3 columns</p>\n",
       "</div>"
      ],
      "text/plain": [
       "                text label  task\n",
       "0        СЗ_Лечебное     O   270\n",
       "1               дело     O   270\n",
       "2                  (     O   270\n",
       "3                  ч     O   270\n",
       "4                 .4     O   270\n",
       "...              ...   ...   ...\n",
       "12272  обязательными     O   314\n",
       "12273            для     O   314\n",
       "12274        данного     O   314\n",
       "12275    заболевания     O   314\n",
       "12276              ?     O   314\n",
       "\n",
       "[12277 rows x 3 columns]"
      ]
     },
     "execution_count": 2,
     "metadata": {},
     "output_type": "execute_result"
    }
   ],
   "source": [
    "# удобное переименование и импорт даты\n",
    "def relabel(sample): \n",
    "    if sample == '_':\n",
    "        return 'O'\n",
    "    if sample.startswith('патологический'):\n",
    "        return 'PAT'\n",
    "    if sample.startswith('физиологический '):\n",
    "        return 'PHY'\n",
    "    \n",
    "data = pd.read_csv('data/parsed/task_parsed.txt', sep='\\t', header=None)\n",
    "data = data[[2,3,7]].rename(columns={2 : 'text', 3 : 'label', 7 : 'task'})\n",
    "data['label'] = data['label'].map(lambda x: relabel(x))\n",
    "data"
   ]
  },
  {
   "cell_type": "code",
   "execution_count": 3,
   "id": "ac7ea0ae",
   "metadata": {},
   "outputs": [],
   "source": [
    "# Правильное разбиение на предложения\n",
    "def sentenizer(words, tags, tasks):\n",
    "    out_texts = []\n",
    "    out_tags = []\n",
    "    out_tasks = []\n",
    "    splitted = []\n",
    "    tag = []\n",
    "    cur_word = 0\n",
    "    text = ''\n",
    "    for i in words:\n",
    "        text += i + ' '\n",
    "    \n",
    "    text = list(razdel.sentenize(text))\n",
    "    \n",
    "    for i in text:\n",
    "        i = i.text.split()\n",
    "        tag = list(tags[cur_word:cur_word + len(i)])\n",
    "        task = tasks[cur_word + len(i)-1]\n",
    "        cur_word += len(i)\n",
    "        \n",
    "        out_texts.append(i)\n",
    "        out_tags.append(tag)\n",
    "        out_tasks.append(task)\n",
    "        \n",
    "    return out_texts, out_tags, out_tasks\n",
    "\n",
    "texts, tags, tasks = sentenizer(data['text'],data['label'],data['task'])\n",
    "ner = pd.DataFrame({\n",
    "    'words' : texts,\n",
    "    'ner' : tags,\n",
    "    'task' : tasks\n",
    "})"
   ]
  },
  {
   "cell_type": "code",
   "execution_count": 4,
   "id": "ff1c481e",
   "metadata": {},
   "outputs": [],
   "source": [
    "# добавляем тег START\n",
    "def span_start(ner):\n",
    "    out = []\n",
    "    cache = ner[1]\n",
    "    for i,item in enumerate(ner):\n",
    "        \n",
    "        if i == 0 and item in ['PHY', 'PAT']:\n",
    "            out.append(item+'-START')\n",
    "            cache = item\n",
    "            continue\n",
    "        \n",
    "        if item in ['PHY', 'PAT'] and cache != item:\n",
    "            out.append(item+'-START')\n",
    "            cache = item\n",
    "        else:\n",
    "            out.append(item)\n",
    "            cache = item\n",
    "            \n",
    "    return out\n",
    "\n",
    "ner.ner = ner.ner.map(lambda x: span_start(x))"
   ]
  },
  {
   "cell_type": "code",
   "execution_count": 6,
   "id": "7eabe603",
   "metadata": {},
   "outputs": [
    {
     "data": {
      "text/plain": [
       "Text(0.5, 0, 'Task')"
      ]
     },
     "execution_count": 6,
     "metadata": {},
     "output_type": "execute_result"
    },
    {
     "data": {
      "image/png": "[encoded data removed]",
      "text/plain": [
       "<Figure size 640x480 with 1 Axes>"
      ]
     },
     "metadata": {},
     "output_type": "display_data"
    }
   ],
   "source": [
    "ax = ner.task.value_counts().sort_index().plot(kind = 'bar', title = 'all tasks')\n",
    "ax.set_ylabel(\"Count\")\n",
    "ax.set_xlabel(\"Task\")"
   ]
  },
  {
   "cell_type": "code",
   "execution_count": 1,
   "id": "84b64ee0",
   "metadata": {},
   "outputs": [
    {
     "ename": "NameError",
     "evalue": "name 'ner' is not defined",
     "output_type": "error",
     "traceback": [
      "\u001b[1;31m---------------------------------------------------------------------------\u001b[0m",
      "\u001b[1;31mNameError\u001b[0m                                 Traceback (most recent call last)",
      "Cell \u001b[1;32mIn[1], line 4\u001b[0m\n\u001b[0;32m      2\u001b[0m fold_train \u001b[38;5;241m=\u001b[39m []\n\u001b[0;32m      3\u001b[0m fold_test \u001b[38;5;241m=\u001b[39m []\n\u001b[1;32m----> 4\u001b[0m X \u001b[38;5;241m=\u001b[39m \u001b[43mner\u001b[49m\u001b[38;5;241m.\u001b[39mdrop(columns\u001b[38;5;241m=\u001b[39m[\u001b[38;5;124m'\u001b[39m\u001b[38;5;124mtask\u001b[39m\u001b[38;5;124m'\u001b[39m])\n\u001b[0;32m      5\u001b[0m y \u001b[38;5;241m=\u001b[39m ner[\u001b[38;5;124m'\u001b[39m\u001b[38;5;124mtask\u001b[39m\u001b[38;5;124m'\u001b[39m]\n\u001b[0;32m      6\u001b[0m skf \u001b[38;5;241m=\u001b[39m StratifiedGroupKFold(n_splits\u001b[38;5;241m=\u001b[39m\u001b[38;5;241m5\u001b[39m, shuffle\u001b[38;5;241m=\u001b[39m \u001b[38;5;28;01mTrue\u001b[39;00m, random_state\u001b[38;5;241m=\u001b[39m\u001b[38;5;241m15\u001b[39m) \u001b[38;5;66;03m# StratifiedGroupKFold\u001b[39;00m\n",
      "\u001b[1;31mNameError\u001b[0m: name 'ner' is not defined"
     ]
    }
   ],
   "source": [
    "# разбиваем на фолды\n",
    "fold_train = []\n",
    "fold_test = []\n",
    "X = ner.drop(columns=['task'])\n",
    "y = ner['task']\n",
    "skf = StratifiedGroupKFold(n_splits=5, shuffle= True, random_state=15) # StratifiedGroupKFold\n",
    "for i, (train_index, test_index) in enumerate(skf.split(X, y, y)):\n",
    "    ner.iloc[train_index].to_csv('data/ner/newtrainfold_' + str(i) + '.csv') # сделать json\n",
    "    ner.iloc[test_index].to_csv('data/ner/newtestfold_' + str(i) + '.csv') # сделать json\n",
    "    fold_train.append(ner.iloc[train_index])\n",
    "    fold_test.append(ner.iloc[test_index])"
   ]
  },
  {
   "cell_type": "code",
   "execution_count": 9,
   "id": "8255bf8d",
   "metadata": {},
   "outputs": [],
   "source": [
    "# свой value_counts\n",
    "def alloc (fold):\n",
    "    ner = {'O' : 0, 'PHY' : 0, 'PAT' : 0}\n",
    "    ner_perc = {'O' : 0, 'PHY' : 0, 'PAT' : 0}\n",
    "    count = 0\n",
    "    \n",
    "    for i in fold.ner:\n",
    "        for j in i:\n",
    "            \n",
    "            if j == 'O':\n",
    "                ner['O'] += 1\n",
    "                count += 1\n",
    "                \n",
    "            if j == 'PHY':\n",
    "                ner['PHY'] += 1\n",
    "                count += 1\n",
    "                \n",
    "            if j == 'PAT':\n",
    "                ner['PAT'] += 1\n",
    "                count += 1\n",
    "                \n",
    "    ner_perc['O'] = ner['O']/count\n",
    "    ner_perc['PHY'] = ner['PHY']/count\n",
    "    ner_perc['PAT'] = ner['PAT']/count\n",
    "    \n",
    "    return ner, ner_perc"
   ]
  },
  {
   "cell_type": "code",
   "execution_count": 10,
   "id": "72a270f0",
   "metadata": {},
   "outputs": [],
   "source": [
    "# распределение\n",
    "def devination (folds):\n",
    "    O = 0\n",
    "    PHY = 0\n",
    "    PAT = 0\n",
    "    ner = {'O' : [], 'PHY' : [], 'PAT' : []}\n",
    "    \n",
    "    for i in range(5):\n",
    "        metrics = alloc(folds[i])[1]\n",
    "        \n",
    "        ner['O'].append(metrics['O'])\n",
    "        ner['PHY'].append(metrics['PHY'])\n",
    "        ner['PAT'].append(metrics['PAT'])\n",
    "        \n",
    "        \n",
    "        O += metrics['O']\n",
    "        PHY += metrics['PHY']\n",
    "        PAT += metrics['PAT']\n",
    "        \n",
    "    return {'O' : O/5, 'PHY' : PHY/5, 'PAT' : PAT/5}, {'O' : np.std(ner['O']), 'PHY' : np.std(ner['PHY']), 'PAT' : np.std(ner['PAT'])}"
   ]
  },
  {
   "cell_type": "code",
   "execution_count": 11,
   "id": "397837b6",
   "metadata": {},
   "outputs": [
    {
     "name": "stdout",
     "output_type": "stream",
     "text": [
      "ALL FOLDS:\n",
      "mean - {'O': 0.6723870142944817, 'PHY': 0.08624494884044297, 'PAT': 0.2413680368650754}\n",
      "std - {'O': 0.0066781831362363354, 'PHY': 0.004028156205041189, 'PAT': 0.004825014454797389}\n"
     ]
    }
   ],
   "source": [
    "# среднее и CO по фолдам\n",
    "temp = devination(fold_train)\n",
    "print ('ALL FOLDS:')\n",
    "print ('mean - ' + str(temp[0]))\n",
    "print ('std - ' + str(temp[1]))"
   ]
  },
  {
   "cell_type": "code",
   "execution_count": 12,
   "id": "6aacb837",
   "metadata": {},
   "outputs": [
    {
     "name": "stdout",
     "output_type": "stream",
     "text": [
      "PERCENTAGE:\n",
      "fold 0 - {'O': 0.6660141381185427, 'PHY': 0.09342033713974987, 'PAT': 0.24056552474170745}\n",
      "fold 1 - {'O': 0.6643249176728869, 'PHY': 0.08693743139407245, 'PAT': 0.24873765093304062}\n",
      "fold 2 - {'O': 0.671562082777036, 'PHY': 0.08400089007565643, 'PAT': 0.24443702714730753}\n",
      "fold 3 - {'O': 0.6803822372119168, 'PHY': 0.08139404159640247, 'PAT': 0.23822372119168073}\n",
      "fold 4 - {'O': 0.6796516956920257, 'PHY': 0.08547204399633364, 'PAT': 0.2348762603116407}\n"
     ]
    }
   ],
   "source": [
    "# соотношения классов в долях\n",
    "print ('PERCENTAGE:')\n",
    "for i in range(5):\n",
    "    print ('fold ' + str (i) + ' - ' + str(alloc(fold_train[i])[1]))"
   ]
  },
  {
   "cell_type": "code",
   "execution_count": 13,
   "id": "14924b9a",
   "metadata": {},
   "outputs": [
    {
     "name": "stdout",
     "output_type": "stream",
     "text": [
      "COUNT:\n",
      "fold 0 - {'O': 6124, 'PHY': 859, 'PAT': 2212}\n",
      "fold 1 - {'O': 6052, 'PHY': 792, 'PAT': 2266}\n",
      "fold 2 - {'O': 6036, 'PHY': 755, 'PAT': 2197}\n",
      "fold 3 - {'O': 6052, 'PHY': 724, 'PAT': 2119}\n",
      "fold 4 - {'O': 5932, 'PHY': 746, 'PAT': 2050}\n"
     ]
    }
   ],
   "source": [
    "print('COUNT:')\n",
    "for i in range(5):\n",
    "    print ('fold ' + str (i) + ' - ' + str(alloc(fold_train[i])[0]))"
   ]
  },
  {
   "cell_type": "code",
   "execution_count": 14,
   "id": "3ea14c85",
   "metadata": {},
   "outputs": [
    {
     "name": "stdout",
     "output_type": "stream",
     "text": [
      "all tasks count - 686\n",
      "mean - 19.055555555555557\n",
      "count - 36\n"
     ]
    },
    {
     "data": {
      "image/png": "[encoded data removed]",
      "text/plain": [
       "<Figure size 640x480 with 1 Axes>"
      ]
     },
     "metadata": {},
     "output_type": "display_data"
    }
   ],
   "source": [
    "fold_train[0].task.value_counts().sort_index().plot(kind='bar', title = 'train fold 0')\n",
    "print('all tasks count - ' +  str(len(fold_train[0])))\n",
    "print('mean - ' + str(fold_train[0].task.value_counts().mean()))\n",
    "print('count - ' + str(len(fold_train[0].task.value_counts()))) # по таргету в процентах физ и пат"
   ]
  },
  {
   "cell_type": "code",
   "execution_count": 15,
   "id": "403d8db1",
   "metadata": {},
   "outputs": [
    {
     "name": "stdout",
     "output_type": "stream",
     "text": [
      "all tasks count - 165\n",
      "mean - 18.333333333333332\n",
      "count - 9\n"
     ]
    },
    {
     "data": {
      "image/png": "[encoded data removed]",
      "text/plain": [
       "<Figure size 640x480 with 1 Axes>"
      ]
     },
     "metadata": {},
     "output_type": "display_data"
    }
   ],
   "source": [
    "fold_test[0].task.value_counts().sort_index().plot(kind='bar', title = 'test fold 0')\n",
    "print('all tasks count - ' + str(len(fold_test[0])))\n",
    "print('mean - ' + str(fold_test[0].task.value_counts().mean()))\n",
    "print('count - ' + str(len(fold_test[0].task.value_counts())))"
   ]
  }
 ],
 "metadata": {
  "kernelspec": {
   "display_name": "Python 3 (ipykernel)",
   "language": "python",
   "name": "python3"
  },
  "language_info": {
   "codemirror_mode": {
    "name": "ipython",
    "version": 3
   },
   "file_extension": ".py",
   "mimetype": "text/x-python",
   "name": "python",
   "nbconvert_exporter": "python",
   "pygments_lexer": "ipython3",
   "version": "3.10.9"
  }
 },
 "nbformat": 4,
 "nbformat_minor": 5
}
