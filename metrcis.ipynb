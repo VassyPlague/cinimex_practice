{
 "cells": [
  {
   "cell_type": "code",
   "execution_count": 1,
   "id": "3e4761cf",
   "metadata": {},
   "outputs": [],
   "source": [
    "from transformers import AutoTokenizer, BertForTokenClassification\n",
    "from datasets import load_dataset\n",
    "import ast\n",
    "model_name = \"model_ner\"\n",
    "tokenizer = AutoTokenizer.from_pretrained(model_name)\n",
    "model = BertForTokenClassification.from_pretrained(model_name)"
   ]
  },
  {
   "cell_type": "code",
   "execution_count": 2,
   "id": "30276890",
   "metadata": {},
   "outputs": [],
   "source": [
    "def from_str_to_list(data):\n",
    "    out = []\n",
    "    for i in data:\n",
    "        out.append(ast.literal_eval(i))\n",
    "    return out"
   ]
  },
  {
   "cell_type": "code",
   "execution_count": 3,
   "id": "9e96afa5",
   "metadata": {},
   "outputs": [
    {
     "name": "stderr",
     "output_type": "stream",
     "text": [
      "Found cached dataset csv (C:/Users/intern-lab/.cache/huggingface/datasets/csv/default-04c3fd0d648ccbbe/0.0.0/eea64c71ca8b46dd3f537ed218fc9bf495d5707789152eb2764f5c78fa66d59d)\n"
     ]
    },
    {
     "data": {
      "application/vnd.jupyter.widget-view+json": {
       "model_id": "5ac43b122f9b404782f15cac53f6ea1b",
       "version_major": 2,
       "version_minor": 0
      },
      "text/plain": [
       "  0%|          | 0/1 [00:00<?, ?it/s]"
      ]
     },
     "metadata": {},
     "output_type": "display_data"
    }
   ],
   "source": [
    "ts = load_dataset('csv', data_files='data/ner/newtestfold_0.csv').remove_columns('Unnamed: 0')\n",
    "test = ts['train']\n",
    "tsner = test['ner']\n",
    "tswords = test['words']\n",
    "test = test.remove_columns('ner')\n",
    "test = test.add_column('ner',from_str_to_list(tsner))\n",
    "test = test.remove_columns('words')\n",
    "test = test.add_column('words',from_str_to_list(tswords))\n"
   ]
  },
  {
   "cell_type": "code",
   "execution_count": 16,
   "id": "081615bc",
   "metadata": {},
   "outputs": [],
   "source": [
    "def predict(sample):\n",
    "    sample = ' '.join(sample)\n",
    "    encoding = tokenizer(sample, return_tensors=\"pt\", padding=True)\n",
    "    outputs = model(**encoding)\n",
    "    logits = outputs.logits\n",
    "    \n",
    "    return logits.argmax(-1) # pred"
   ]
  },
  {
   "cell_type": "code",
   "execution_count": 19,
   "id": "e1c75201",
   "metadata": {},
   "outputs": [
    {
     "data": {
      "text/plain": [
       "[tensor([[0, 0, 0, 0, 0, 0, 0, 0, 0, 0, 0, 0, 0, 0, 0, 0, 0, 0, 0, 0, 0, 0, 0, 0,\n",
       "          0, 0, 0, 0, 0, 0, 0, 0, 0, 0, 0, 0, 0, 0, 0, 0, 0, 0, 0, 0, 0, 0, 0, 0,\n",
       "          0, 0, 0, 0, 0, 0, 0, 0, 0, 0, 0, 0, 0, 0, 0, 0, 0, 0, 0, 0, 0, 0, 0, 0,\n",
       "          0, 0, 0, 0, 0, 0, 0, 0, 0, 0, 0, 0, 0, 0, 0, 0, 0, 0, 3, 1, 1, 1, 0, 3,\n",
       "          1, 1, 1, 1, 1, 0, 3, 3, 0, 3, 1, 1, 1, 1, 1, 1, 0, 0]])]"
      ]
     },
     "execution_count": 19,
     "metadata": {},
     "output_type": "execute_result"
    }
   ],
   "source": [
    "predictions = []\n",
    "for i in test['words']:\n",
    "    predictions.append(predict(i))\n",
    "    break\n",
    "predictions"
   ]
  }
 ],
 "metadata": {
  "kernelspec": {
   "display_name": "Python 3 (ipykernel)",
   "language": "python",
   "name": "python3"
  },
  "language_info": {
   "codemirror_mode": {
    "name": "ipython",
    "version": 3
   },
   "file_extension": ".py",
   "mimetype": "text/x-python",
   "name": "python",
   "nbconvert_exporter": "python",
   "pygments_lexer": "ipython3",
   "version": "3.10.9"
  }
 },
 "nbformat": 4,
 "nbformat_minor": 5
}
